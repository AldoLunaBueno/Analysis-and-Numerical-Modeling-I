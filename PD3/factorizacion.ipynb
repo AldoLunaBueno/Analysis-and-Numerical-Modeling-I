{
 "cells": [
  {
   "cell_type": "code",
   "execution_count": 1,
   "metadata": {},
   "outputs": [],
   "source": [
    "import numpy as np"
   ]
  },
  {
   "cell_type": "markdown",
   "metadata": {
    "id": "XsaoXt3wfecP"
   },
   "source": [
    "# Sistema de ecuaciones lineales usando Gauss"
   ]
  },
  {
   "cell_type": "code",
   "execution_count": 2,
   "metadata": {
    "colab": {
     "base_uri": "https://localhost:8080/"
    },
    "id": "0k5k_qJ-YOV6",
    "outputId": "246b00a9-a1a5-49ad-e841-02dd0e24ddb1"
   },
   "outputs": [],
   "source": [
    "def gauss(g):\n",
    "    \"\"\"Eliminación de gauss jordan\"\"\"\n",
    "    n = g.shape[0]\n",
    "    for i in range(n):\n",
    "        g[i] = g[i] / g[i][i]\n",
    "        # print(g)\n",
    "        for j in range(n):\n",
    "            if i != j:\n",
    "                g[j] = g[j] - g[i] * g[j][i]\n",
    "                # print(g)\n",
    "    variables = [column[n] for column in g]\n",
    "    # print(g)\n",
    "    return variables"
   ]
  },
  {
   "cell_type": "code",
   "execution_count": 3,
   "metadata": {},
   "outputs": [
    {
     "name": "stdout",
     "output_type": "stream",
     "text": [
      "[174.0, 124.0, 120.0]\n"
     ]
    }
   ],
   "source": [
    "g = np.array([[-2, 2, 1, 20], [-2, 4, 1, 268], [-1, 1, 2, 190]])\n",
    "g = g.astype(np.float64)\n",
    "v = gauss(g)\n",
    "print(v)"
   ]
  },
  {
   "cell_type": "markdown",
   "metadata": {
    "id": "kDyFEXOvfYSK"
   },
   "source": [
    "# Inversa de una matriz usando gauss"
   ]
  },
  {
   "cell_type": "code",
   "execution_count": 4,
   "metadata": {
    "colab": {
     "base_uri": "https://localhost:8080/"
    },
    "id": "cqevSPaeXdzH",
    "outputId": "2a11baef-5ecb-44c2-afe5-3670a6b1e2d7"
   },
   "outputs": [
    {
     "name": "stdout",
     "output_type": "stream",
     "text": [
      "[[ 0.22727273  0.18181818 -0.27272727  0.22727273]\n",
      " [-0.72727273 -0.18181818  0.27272727  0.27272727]\n",
      " [ 0.59090909  0.27272727  0.09090909 -0.40909091]\n",
      " [ 0.90909091 -0.27272727 -0.09090909 -0.09090909]]\n"
     ]
    }
   ],
   "source": [
    "A = np.array(\n",
    "    [\n",
    "        [1, 1, 1, 1, 1, 0, 0, 0],\n",
    "        [2, 1, 2, -1, 0, 1, 0, 0],\n",
    "        [1, 4, 3, 1, 0, 0, 1, 0],\n",
    "        [3, 3, 1, 1, 0, 0, 0, 1],\n",
    "    ]\n",
    ")\n",
    "\n",
    "A = A.astype(np.float64)\n",
    "\n",
    "n = A.shape[0]\n",
    "m = A.shape[1]\n",
    "\n",
    "for i in range(n):\n",
    "    # convierte los elementos de la diagonal en 1\n",
    "    A[i] = A[i] / A[i][i]\n",
    "    # recorre cada columna y convierte todos sus elementos excepto los valores de la diagonal (aii) en 0\n",
    "    for j in range(n):\n",
    "        if i != j:\n",
    "            A[j] = A[j] - A[i] * A[j][i]\n",
    "for i in range(int(m / 2)):\n",
    "    A = np.delete(A, (0), axis=1)\n",
    "\n",
    "print(A)"
   ]
  },
  {
   "cell_type": "markdown",
   "metadata": {
    "id": "pBddrn3IfRqO"
   },
   "source": [
    "# Factorizacion LU (Gauss)"
   ]
  },
  {
   "cell_type": "code",
   "execution_count": 5,
   "metadata": {
    "colab": {
     "base_uri": "https://localhost:8080/"
    },
    "id": "YpEADYe-7p-r",
    "outputId": "03561965-fd53-433f-ae99-6f094e8e7d2c"
   },
   "outputs": [
    {
     "name": "stdout",
     "output_type": "stream",
     "text": [
      "Matriz U: \n",
      "[[-2.   2.   1. ]\n",
      " [ 0.   2.   0. ]\n",
      " [ 0.   0.   1.5]]\n",
      "Matriz L: \n",
      "[[1.  0.  0. ]\n",
      " [1.  1.  0. ]\n",
      " [0.5 0.  1. ]]\n",
      "Verificar factorizacion A=L*U: \n",
      "[[-2.  2.  1.]\n",
      " [-2.  4.  1.]\n",
      " [-1.  1.  2.]]\n"
     ]
    }
   ],
   "source": [
    "# A = np.array([[ 1, 1, 1],\n",
    "#              [ 2, 3, 5],\n",
    "#              [ 4, 6, 8]])\n",
    "\n",
    "# A = np.array([[ -2, 4,  1],\n",
    "#              [ 4, -5,  4],\n",
    "#              [ -6,  -3,  -14]])\n",
    "\n",
    "A = np.array([[-2, 2, 1], [-2, 4, 1], [-1, 1, 2]])\n",
    "A = A.astype(np.float64)\n",
    "U = A\n",
    "n = A.shape[0]\n",
    "L = np.identity(n, np.float64)\n",
    "\n",
    "E = []\n",
    "for i in range(n):\n",
    "    for j in range(n):\n",
    "        if i < j:\n",
    "            # print(\"Matriz Elemental\")\n",
    "            # I = np.identity(n, np.float64)\n",
    "            L[j][i] = U[j][i] / U[i][i]\n",
    "            # print(L)\n",
    "            E.append(L)\n",
    "            # print(\"Matriz A Convertida\")\n",
    "            U[j] = U[j] - (U[i] * U[j][i]) / U[i][i]\n",
    "            # print(U)\n",
    "\n",
    "print(\"Matriz U: \")\n",
    "print(U)\n",
    "\n",
    "print(\"Matriz L: \")\n",
    "print(L)\n",
    "\n",
    "print(\"Verificar factorizacion A=L*U: \")\n",
    "print(np.dot(L, U))"
   ]
  },
  {
   "cell_type": "code",
   "execution_count": 6,
   "metadata": {
    "colab": {
     "base_uri": "https://localhost:8080/"
    },
    "id": "pEqwLrqZZ9tc",
    "outputId": "26c54738-a476-4d80-e058-5057fed3b69c"
   },
   "outputs": [
    {
     "name": "stdout",
     "output_type": "stream",
     "text": [
      "[174.0, 124.0, 120.0]\n"
     ]
    }
   ],
   "source": [
    "b = np.array([20.0, 268.0, 190.0])\n",
    "L = np.insert(L, L.shape[1], b, 1)\n",
    "y = gauss(L)\n",
    "U = np.insert(U, U.shape[1], y, 1)\n",
    "x = gauss(U)\n",
    "print(x)"
   ]
  },
  {
   "cell_type": "markdown",
   "metadata": {
    "id": "J-oGU0Qda2R8"
   },
   "source": [
    "# Factorización LU (crout)"
   ]
  },
  {
   "cell_type": "code",
   "execution_count": 7,
   "metadata": {
    "colab": {
     "base_uri": "https://localhost:8080/"
    },
    "id": "i8bzzfstjA2g",
    "outputId": "877d611a-3a5d-40b8-dc59-830ed693df28"
   },
   "outputs": [
    {
     "name": "stdout",
     "output_type": "stream",
     "text": [
      "Matriz U: \n",
      "[[ 1.  -1.  -0.5]\n",
      " [ 0.   1.   0. ]\n",
      " [ 0.   0.   1. ]]\n",
      "Matriz L: \n",
      "[[-2.   0.   0. ]\n",
      " [-2.   2.   0. ]\n",
      " [-1.   0.   1.5]]\n",
      "Verificar factorizacion A=L*U: \n",
      "[[-2.  2.  1.]\n",
      " [-2.  4.  1.]\n",
      " [-1.  1.  2.]]\n",
      "[174.0, 124.0, 120.0]\n"
     ]
    }
   ],
   "source": [
    "A = np.array([[-2, 2, 1], [-2, 4, 1], [-1, 1, 2]])\n",
    "A = A.astype(np.float64)\n",
    "n = A.shape[0]\n",
    "\n",
    "L = np.zeros((n, n), dtype=np.float64)\n",
    "U = np.identity(n, dtype=np.float64)\n",
    "\n",
    "\n",
    "for j in range(0, n):\n",
    "    for i in range(0, j):\n",
    "        sum0 = sum([L[i, k] * U[k, j] for k in range(0, i)])\n",
    "        U[i, j] = (A[i, j] - sum0) / L[i, i]\n",
    "\n",
    "    for i in range(j, n):\n",
    "        sum1 = sum([L[i, k] * U[k, j] for k in range(0, j)])\n",
    "        L[i, j] = (A[i, j] - sum1) / U[j, j]\n",
    "\n",
    "print(\"Matriz U: \")\n",
    "print(U)\n",
    "\n",
    "print(\"Matriz L: \")\n",
    "print(L)\n",
    "\n",
    "print(\"Verificar factorizacion A=L*U: \")\n",
    "print(np.dot(L, U))\n",
    "\n",
    "b = np.array([20.0, 268.0, 190.0])\n",
    "L = np.insert(L, L.shape[1], b, 1)\n",
    "y = gauss(L)\n",
    "U = np.insert(U, U.shape[1], y, 1)\n",
    "x = gauss(U)\n",
    "print(x)"
   ]
  },
  {
   "cell_type": "markdown",
   "metadata": {
    "id": "_5NMnZxQa64H"
   },
   "source": [
    "# Factorización LU (Doolitle)"
   ]
  },
  {
   "cell_type": "code",
   "execution_count": 8,
   "metadata": {
    "colab": {
     "base_uri": "https://localhost:8080/"
    },
    "id": "Z6RBIINMZdmi",
    "outputId": "0d2d57ef-1b69-4748-8ff8-bc4d30e28d32"
   },
   "outputs": [
    {
     "name": "stdout",
     "output_type": "stream",
     "text": [
      "Matriz U: \n",
      "[[-2.   2.   1. ]\n",
      " [ 0.   2.   0. ]\n",
      " [ 0.   0.   1.5]]\n",
      "Matriz L: \n",
      "[[1.  0.  0. ]\n",
      " [1.  1.  0. ]\n",
      " [0.5 0.  1. ]]\n",
      "Verificar factorizacion A=L*U: \n",
      "[[-2.  2.  1.]\n",
      " [-2.  4.  1.]\n",
      " [-1.  1.  2.]]\n",
      "[174.0, 124.0, 120.0]\n"
     ]
    }
   ],
   "source": [
    "A = np.array([[-2, 2, 1], [-2, 4, 1], [-1, 1, 2]])\n",
    "A = A.astype(np.float64)\n",
    "n = A.shape[0]\n",
    "\n",
    "U = np.zeros((n, n), dtype=np.float64)\n",
    "L = np.identity(n, dtype=np.float64)\n",
    "\n",
    "\n",
    "for i in range(0, n):\n",
    "    for j in range(0, i):\n",
    "        sum0 = sum([L[i, k] * U[k, j] for k in range(0, j)])\n",
    "        L[i, j] = (A[i, j] - sum0) / U[j, j]\n",
    "\n",
    "    for j in range(i, n):\n",
    "        sum1 = sum([L[i, k] * U[k, j] for k in range(0, i)])\n",
    "        U[i, j] = (A[i, j] - sum1) / L[i, i]\n",
    "\n",
    "print(\"Matriz U: \")\n",
    "print(U)\n",
    "\n",
    "print(\"Matriz L: \")\n",
    "print(L)\n",
    "\n",
    "print(\"Verificar factorizacion A=L*U: \")\n",
    "print(np.dot(L, U))\n",
    "\n",
    "b = np.array([20.0, 268.0, 190.0])\n",
    "L = np.insert(L, L.shape[1], b, 1)\n",
    "y = gauss(L)\n",
    "U = np.insert(U, U.shape[1], y, 1)\n",
    "x = gauss(U)\n",
    "print(x)"
   ]
  },
  {
   "cell_type": "markdown",
   "metadata": {
    "id": "gNrn1ZsatewB"
   },
   "source": [
    "# Algoritmo $LDL^T$"
   ]
  },
  {
   "cell_type": "code",
   "execution_count": 10,
   "metadata": {
    "colab": {
     "base_uri": "https://localhost:8080/"
    },
    "id": "J2iW2yeguogY",
    "outputId": "0e9e45fe-ebae-45ab-ba30-b8b2af758fe9"
   },
   "outputs": [
    {
     "name": "stdout",
     "output_type": "stream",
     "text": [
      "[[4.         0.         0.         0.        ]\n",
      " [0.         2.75       0.         0.        ]\n",
      " [0.         0.         1.18181818 0.        ]\n",
      " [0.         0.         0.         1.53846154]]\n",
      "[[ 1.          0.          0.          0.        ]\n",
      " [ 0.25        1.          0.          0.        ]\n",
      " [ 0.25       -0.45454545  1.          0.        ]\n",
      " [ 0.25        0.27272727  0.07692308  1.        ]]\n",
      "Verificar factorizacion A = L*D*L^T: \n",
      "[[ 4.00000000e+00  1.00000000e+00  1.00000000e+00  1.00000000e+00]\n",
      " [ 1.00000000e+00  3.00000000e+00 -1.00000000e+00  1.00000000e+00]\n",
      " [ 1.00000000e+00 -1.00000000e+00  2.00000000e+00  2.13504428e-18]\n",
      " [ 1.00000000e+00  1.00000000e+00 -1.38777878e-17  2.00000000e+00]]\n"
     ]
    }
   ],
   "source": [
    "A = np.array([[4, 1, 1, 1], [1, 3, -1, 1], [1, -1, 2, 0], [1, 1, 0, 2]])\n",
    "n = A.shape[0]\n",
    "\n",
    "\n",
    "L = np.zeros((n, n))\n",
    "D = np.zeros((n, n))\n",
    "\n",
    "\n",
    "for i in range(0, n):\n",
    "    sum0 = sum([L[i][j] * L[i][j] * D[j][j] for j in range(0, i)])\n",
    "    D[i][i] = A[i][i] - sum0\n",
    "    for j in range(i, n):\n",
    "        sum1 = sum([L[j][k] * L[i][k] * D[k][k] for k in range(0, i)])\n",
    "        L[j][i] = (A[j][i] - sum1) / D[i][i]\n",
    "print(D)\n",
    "print(L)\n",
    "print(\"Verificar factorizacion A = L*D*L^T: \")\n",
    "c = np.dot(L, D)\n",
    "print((np.dot(c, L.transpose())))"
   ]
  },
  {
   "cell_type": "markdown",
   "metadata": {
    "id": "vOKjvjT_CkT6"
   },
   "source": [
    "# Algoritmo de Cholesky"
   ]
  },
  {
   "cell_type": "code",
   "execution_count": 11,
   "metadata": {
    "colab": {
     "base_uri": "https://localhost:8080/"
    },
    "id": "BeCT9PiR8B4T",
    "outputId": "2201387b-9346-4959-f4c2-a50f2b32f66c",
    "scrolled": true
   },
   "outputs": [
    {
     "name": "stdout",
     "output_type": "stream",
     "text": [
      "[[ 2.          0.          0.          0.        ]\n",
      " [ 0.5         1.6583124   0.          0.        ]\n",
      " [ 0.5        -0.75377836  1.08711461  0.        ]\n",
      " [ 0.5         0.45226702  0.0836242   1.24034735]]\n",
      "[[ 2.          0.5         0.5         0.5       ]\n",
      " [ 0.          1.6583124  -0.75377836  0.45226702]\n",
      " [ 0.          0.          1.08711461  0.0836242 ]\n",
      " [ 0.          0.          0.          1.24034735]]\n",
      "Verificar factorizacion A = L*L^T: \n",
      "[[ 4.00000000e+00  1.00000000e+00  1.00000000e+00  1.00000000e+00]\n",
      " [ 1.00000000e+00  3.00000000e+00 -1.00000000e+00  1.00000000e+00]\n",
      " [ 1.00000000e+00 -1.00000000e+00  2.00000000e+00 -1.41926118e-17]\n",
      " [ 1.00000000e+00  1.00000000e+00 -1.41926118e-17  2.00000000e+00]]\n"
     ]
    }
   ],
   "source": [
    "A = np.array([[4, 1, 1, 1], [1, 3, -1, 1], [1, -1, 2, 0], [1, 1, 0, 2]])\n",
    "n = A.shape[0]\n",
    "\n",
    "\n",
    "L = np.zeros((n, n))\n",
    "# D = np.zeros((n,n))\n",
    "\n",
    "\n",
    "for i in range(0, n):\n",
    "    sum0 = sum([L[i][j] * L[i][j] for j in range(0, i)])\n",
    "    L[i][i] = (A[i][i] - sum0) ** (0.5)\n",
    "    for j in range(i, n):\n",
    "        sum1 = sum([L[j][k] * L[i][k] for k in range(0, i)])\n",
    "        L[j][i] = (A[j][i] - sum1) / L[i][i]\n",
    "# print(D)\n",
    "print(L)\n",
    "print(L.transpose())\n",
    "print(\"Verificar factorizacion A = L*L^T: \")\n",
    "# c = np.dot(L, D)\n",
    "print(np.dot(L, L.transpose()))"
   ]
  },
  {
   "cell_type": "markdown",
   "metadata": {
    "id": "E5iIQ8zL4Psr"
   },
   "source": [
    "# Parlett y Reid"
   ]
  },
  {
   "cell_type": "code",
   "execution_count": 12,
   "metadata": {
    "colab": {
     "base_uri": "https://localhost:8080/"
    },
    "id": "XsLVk5XBpA7K",
    "outputId": "d419563f-7ab1-4df5-e007-e8f37525e9c7"
   },
   "outputs": [
    {
     "name": "stdout",
     "output_type": "stream",
     "text": [
      "[[0. 0. 3. 3.]\n",
      " [0. 0. 0. 0.]\n",
      " [3. 0. 9. 5.]\n",
      " [3. 0. 5. 4.]]\n",
      "[[1. 0. 0. 0.]\n",
      " [0. 1. 0. 0.]\n",
      " [0. 0. 1. 0.]\n",
      " [0. 0. 0. 1.]]\n",
      "[[1. 0. 0. 0.]\n",
      " [0. 1. 0. 0.]\n",
      " [0. 0. 1. 0.]\n",
      " [0. 0. 0. 1.]]\n",
      "[[1. 0. 0. 0.]\n",
      " [0. 0. 0. 0.]\n",
      " [0. 1. 1. 0.]\n",
      " [0. 0. 0. 1.]]\n",
      "[[0. 0. 3. 3.]\n",
      " [0. 0. 0. 0.]\n",
      " [3. 0. 9. 5.]\n",
      " [3. 0. 5. 4.]]\n",
      "La forma PAPT es: \n",
      "[[0. 0. 3. 3.]\n",
      " [0. 0. 0. 0.]\n",
      " [3. 0. 9. 5.]\n",
      " [3. 0. 5. 4.]]\n",
      "La forma LMLT es: \n",
      "[[0. 0. 3. 3.]\n",
      " [0. 0. 0. 0.]\n",
      " [3. 0. 9. 5.]\n",
      " [3. 0. 5. 4.]]\n"
     ]
    }
   ],
   "source": [
    "A = np.array([[0, 1, 2, 3], [1, 2, 2, 2], [2, 2, 3, 3], [3, 2, 3, 4]])\n",
    "\n",
    "A1 = A\n",
    "n = A.shape[0]\n",
    "ind = np.arange(0, n)\n",
    "I = np.eye(n)\n",
    "P = I\n",
    "M = I\n",
    "L = I\n",
    "for i in range(0, n - 2):\n",
    "    mayor = np.amax(A[i, i + 1: n])\n",
    "    index = np.where(A[i, i + 1: n] == np.amax(A[i, i + 1: n]))[0][0]\n",
    "    index = index + i\n",
    "    p = ind\n",
    "    p[i + 1] = index\n",
    "    p[index] = i + 1\n",
    "    per = I[:, p]\n",
    "    A = np.dot(np.dot(per, A), per.T)\n",
    "    P = np.dot(per, P)\n",
    "    L[i + 1: n, i] = L[p[i + 1: n], i]\n",
    "    m = np.zeros(n)\n",
    "    for j in range(i + 2, n):\n",
    "        m[j] = A[i, j] / mayor\n",
    "    mult = I - np.dot(m, I[:, i + 1].T)\n",
    "    A = np.dot(np.dot(mult, A), mult.T)\n",
    "    M = np.dot(mult, M)\n",
    "    L = L - np.tril(mult, -1)\n",
    "T = A\n",
    "print(T)\n",
    "print(L)\n",
    "print(M)\n",
    "print(P)\n",
    "print(A)\n",
    "# PAPT= LTLT\n",
    "x = np.dot(np.dot(P, A1), P.T)\n",
    "x\n",
    "y = np.dot(np.dot(L, T), L.T)\n",
    "print(\"La forma PAPT es: \")\n",
    "print(x)\n",
    "print(\"La forma LMLT es: \")\n",
    "print(y)"
   ]
  }
 ],
 "metadata": {
  "colab": {
   "collapsed_sections": [],
   "provenance": []
  },
  "kernelspec": {
   "display_name": "Python 3 (ipykernel)",
   "language": "python",
   "name": "python3"
  },
  "language_info": {
   "codemirror_mode": {
    "name": "ipython",
    "version": 3
   },
   "file_extension": ".py",
   "mimetype": "text/x-python",
   "name": "python",
   "nbconvert_exporter": "python",
   "pygments_lexer": "ipython3",
   "version": "3.10.8"
  }
 },
 "nbformat": 4,
 "nbformat_minor": 1
}
