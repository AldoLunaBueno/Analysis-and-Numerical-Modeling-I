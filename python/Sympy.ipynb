{
 "cells": [
  {
   "cell_type": "code",
   "execution_count": 480,
   "metadata": {},
   "outputs": [
    {
     "data": {
      "text/latex": [
       "$\\displaystyle x^{2} + y^{2}$"
      ],
      "text/plain": [
       "x**2 + y**2"
      ]
     },
     "execution_count": 480,
     "metadata": {},
     "output_type": "execute_result"
    }
   ],
   "source": [
    "import sympy as sym\n",
    "x = sym.Symbol('x')\n",
    "y = sym.Symbol('y')\n",
    "\n",
    "x**2 + y**2\n"
   ]
  },
  {
   "cell_type": "markdown",
   "metadata": {},
   "source": [
    "### Expand\n",
    "Use to expand an algebraic expressions "
   ]
  },
  {
   "cell_type": "code",
   "execution_count": 481,
   "metadata": {},
   "outputs": [
    {
     "data": {
      "text/latex": [
       "$\\displaystyle x^{3} + 3 x^{2} y + 3 x y^{2} + y^{3}$"
      ],
      "text/plain": [
       "x**3 + 3*x**2*y + 3*x*y**2 + y**3"
      ]
     },
     "execution_count": 481,
     "metadata": {},
     "output_type": "execute_result"
    }
   ],
   "source": [
    "sym.expand((x+y)**3)\n"
   ]
  },
  {
   "cell_type": "code",
   "execution_count": 482,
   "metadata": {},
   "outputs": [
    {
     "data": {
      "text/latex": [
       "$\\displaystyle - \\sin{\\left(x \\right)} \\sin{\\left(y \\right)} + \\cos{\\left(x \\right)} \\cos{\\left(y \\right)}$"
      ],
      "text/plain": [
       "-sin(x)*sin(y) + cos(x)*cos(y)"
      ]
     },
     "execution_count": 482,
     "metadata": {},
     "output_type": "execute_result"
    }
   ],
   "source": [
    "sym.expand(sym.cos(x+y),trig= True)"
   ]
  },
  {
   "cell_type": "markdown",
   "metadata": {},
   "source": [
    "### Simplify\n",
    "Use when you would like to transform an expresion into a simple form"
   ]
  },
  {
   "cell_type": "code",
   "execution_count": 483,
   "metadata": {},
   "outputs": [
    {
     "data": {
      "text/latex": [
       "$\\displaystyle y + 1$"
      ],
      "text/plain": [
       "y + 1"
      ]
     },
     "execution_count": 483,
     "metadata": {},
     "output_type": "execute_result"
    }
   ],
   "source": [
    "sym.simplify((x+x*y)/x)\n"
   ]
  },
  {
   "cell_type": "markdown",
   "metadata": {},
   "source": [
    "![Ejercicio](image/ejercicio1_sym.png)"
   ]
  },
  {
   "cell_type": "code",
   "execution_count": 484,
   "metadata": {},
   "outputs": [
    {
     "data": {
      "text/latex": [
       "$\\displaystyle x^{6} + 6 x^{5} y + 15 x^{4} y^{2} + 20 x^{3} y^{3} + 15 x^{2} y^{4} + 6 x y^{5} + y^{6}$"
      ],
      "text/plain": [
       "x**6 + 6*x**5*y + 15*x**4*y**2 + 20*x**3*y**3 + 15*x**2*y**4 + 6*x*y**5 + y**6"
      ]
     },
     "execution_count": 484,
     "metadata": {},
     "output_type": "execute_result"
    }
   ],
   "source": [
    "sym.expand((x+y)**6)"
   ]
  },
  {
   "cell_type": "code",
   "execution_count": 485,
   "metadata": {},
   "outputs": [
    {
     "data": {
      "text/latex": [
       "$\\displaystyle \\tan{\\left(x \\right)}$"
      ],
      "text/plain": [
       "tan(x)"
      ]
     },
     "execution_count": 485,
     "metadata": {},
     "output_type": "execute_result"
    }
   ],
   "source": [
    "sym.simplify(sym.sin(x)/sym.cos(x))"
   ]
  },
  {
   "cell_type": "markdown",
   "metadata": {},
   "source": [
    "## Matrices :_ )\n",
    "Matrices are created as instaces from the Matric class"
   ]
  },
  {
   "cell_type": "code",
   "execution_count": 486,
   "metadata": {},
   "outputs": [
    {
     "data": {
      "text/latex": [
       "$\\displaystyle \\left[\\begin{matrix}1 & x\\\\y & 1\\end{matrix}\\right]$"
      ],
      "text/plain": [
       "Matrix([\n",
       "[1, x],\n",
       "[y, 1]])"
      ]
     },
     "execution_count": 486,
     "metadata": {},
     "output_type": "execute_result"
    }
   ],
   "source": [
    "\n",
    "sym.Matrix([[1,x],[y,1]])"
   ]
  },
  {
   "cell_type": "code",
   "execution_count": 487,
   "metadata": {},
   "outputs": [
    {
     "data": {
      "text/latex": [
       "$\\displaystyle \\left[\\begin{matrix}x y + 1 & 2 x\\\\2 y & x y + 1\\end{matrix}\\right]$"
      ],
      "text/plain": [
       "Matrix([\n",
       "[x*y + 1,     2*x],\n",
       "[    2*y, x*y + 1]])"
      ]
     },
     "execution_count": 487,
     "metadata": {},
     "output_type": "execute_result"
    }
   ],
   "source": [
    "from numpy import dot,sqrt,array,eye,zeros_like,cos,sin,diag,exp,pi\n",
    "r = sym.Matrix([[1,x],[y,1]])\n",
    "r@r"
   ]
  },
  {
   "cell_type": "markdown",
   "metadata": {},
   "source": [
    "![Ejercicio2](image/ejercicio2_sym.png)"
   ]
  },
  {
   "cell_type": "code",
   "execution_count": 488,
   "metadata": {},
   "outputs": [
    {
     "data": {
      "text/latex": [
       "$\\displaystyle \\left[\\begin{matrix}y & x\\\\y - 3 & x + 2\\end{matrix}\\right]$"
      ],
      "text/plain": [
       "Matrix([\n",
       "[    y,     x],\n",
       "[y - 3, x + 2]])"
      ]
     },
     "execution_count": 488,
     "metadata": {},
     "output_type": "execute_result"
    }
   ],
   "source": [
    "sym.Matrix([[y,x],[y-3,x+2]])\n"
   ]
  },
  {
   "cell_type": "code",
   "execution_count": 489,
   "metadata": {},
   "outputs": [
    {
     "data": {
      "text/latex": [
       "$\\displaystyle \\left[\\begin{matrix}\\frac{x + 2}{3 x + 2 y} & - \\frac{x}{3 x + 2 y}\\\\\\frac{3 - y}{3 x + 2 y} & \\frac{y}{3 x + 2 y}\\end{matrix}\\right]$"
      ],
      "text/plain": [
       "Matrix([\n",
       "[(x + 2)/(3*x + 2*y), -x/(3*x + 2*y)],\n",
       "[(3 - y)/(3*x + 2*y),  y/(3*x + 2*y)]])"
      ]
     },
     "execution_count": 489,
     "metadata": {},
     "output_type": "execute_result"
    }
   ],
   "source": [
    "matrix = sym.Matrix([[y,x],[y-3,x+2]])\n",
    "sym.simplify(matrix.inv())"
   ]
  },
  {
   "cell_type": "code",
   "execution_count": 490,
   "metadata": {},
   "outputs": [
    {
     "data": {
      "text/latex": [
       "$\\displaystyle \\left[\\begin{matrix}c e & c f\\\\d e & d f\\end{matrix}\\right]$"
      ],
      "text/plain": [
       "Matrix([\n",
       "[c*e, c*f],\n",
       "[d*e, d*f]])"
      ]
     },
     "execution_count": 490,
     "metadata": {},
     "output_type": "execute_result"
    }
   ],
   "source": [
    "from sympy import *\n",
    "a,b,c,d,e,f,g,h,i = symbols('a:i') # neat shorthand for multiple symbols!\n",
    "\n",
    "\n",
    "v_1 = Matrix([[c, d]])\n",
    "v_2 = Matrix([[e, f]])\n",
    "v_1.T * v_2 # note the result is a 1 by 1 matrix"
   ]
  },
  {
   "cell_type": "markdown",
   "metadata": {},
   "source": [
    "## Algorit Casteljau\n",
    "![Ejercicio3](image/ejercicio3_sym.png)"
   ]
  },
  {
   "cell_type": "code",
   "execution_count": 491,
   "metadata": {},
   "outputs": [
    {
     "data": {
      "text/plain": [
       "13"
      ]
     },
     "execution_count": 491,
     "metadata": {},
     "output_type": "execute_result"
    }
   ],
   "source": [
    "#calentamiento\n",
    "def rec(x):\n",
    "    if x==1:\n",
    "         return 1\n",
    "    if x==0:\n",
    "        return 1    \n",
    "    return rec(x-1)+rec(x-2)\n",
    "\n",
    "rec(6) "
   ]
  },
  {
   "cell_type": "code",
   "execution_count": 492,
   "metadata": {},
   "outputs": [
    {
     "name": "stdout",
     "output_type": "stream",
     "text": [
      "8*t**2*(1 - t) + t*(8*t*(1 - t) + t*(8 - 4*t))\n",
      "t*(t*(2 - 2*t) - 2*t + 2) + (1 - t)*(2*t*(1 - t) + 2*t)\n",
      "3.50000000000000\n",
      "1.50000000000000\n"
     ]
    }
   ],
   "source": [
    "\n",
    "def Casteljauy(nivel,pos,vec):\n",
    "    if nivel == len(vec)-1:\n",
    "        return vec[pos][1]\n",
    "    return  t*Casteljauy(nivel+1,pos+1,vec)+(1-t)*Casteljauy(nivel+1,pos,vec) \n",
    "\n",
    "def Casteljaux(nivel,pos,vec):\n",
    "    if nivel == len(vec)-1:\n",
    "        return vec[pos][0]\n",
    "    return  t*Casteljaux(nivel+1,pos+1,vec)+(1-t)*Casteljaux(nivel+1,pos,vec) \n",
    "\n",
    "\n",
    "t = sym.Symbol('t')\n",
    "positions = [(0,0),(0,2),(8,2),(4,0)]\n",
    "\n",
    "Px = Casteljaux(0,0,positions)\n",
    "Py = Casteljauy(0,0,positions)\n",
    "\n",
    "print(Px)\n",
    "print(Py)\n",
    "\n",
    "print(Px.subs(t,0.5))\n",
    "print(Py.subs(t,0.5))"
   ]
  },
  {
   "cell_type": "markdown",
   "metadata": {},
   "source": [
    "### Derivada"
   ]
  },
  {
   "cell_type": "code",
   "execution_count": 493,
   "metadata": {},
   "outputs": [
    {
     "name": "stdout",
     "output_type": "stream",
     "text": [
      "8*t*(1 - t) + t*(8 - 12*t)\n",
      "-2*t**2 + (1 - t)*(2 - 2*t)\n",
      "3.00000000000000\n",
      "0\n"
     ]
    }
   ],
   "source": [
    "points = [(0,0),(0,2),(8,2),(4,0)]\n",
    "difpoint = []\n",
    "for i in range(1,len(points)):\n",
    "    x = points[i][0] - points[i-1][0]\n",
    "    y = points[i][1] - points[i-1][1]\n",
    "    difpoint.append((x,y))\n",
    "\n",
    "Px = Casteljaux(0,0,difpoint)\n",
    "Py = Casteljauy(0,0,difpoint)\n",
    "\n",
    "print(Px)\n",
    "print(Py)\n",
    "\n",
    "print(Px.subs(t,0.5))\n",
    "print(Py.subs(t,0.5))"
   ]
  }
 ],
 "metadata": {
  "kernelspec": {
   "display_name": "Python 3.8.10 64-bit",
   "language": "python",
   "name": "python3"
  },
  "language_info": {
   "codemirror_mode": {
    "name": "ipython",
    "version": 3
   },
   "file_extension": ".py",
   "mimetype": "text/x-python",
   "name": "python",
   "nbconvert_exporter": "python",
   "pygments_lexer": "ipython3",
   "version": "3.8.10"
  },
  "orig_nbformat": 4,
  "vscode": {
   "interpreter": {
    "hash": "916dbcbb3f70747c44a77c7bcd40155683ae19c65e1c03b4aa3499c5328201f1"
   }
  }
 },
 "nbformat": 4,
 "nbformat_minor": 2
}
