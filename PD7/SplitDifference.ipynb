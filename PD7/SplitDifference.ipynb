{
 "cells": [
  {
   "cell_type": "code",
   "execution_count": 10,
   "metadata": {},
   "outputs": [],
   "source": [
    "from numpy import dot,sqrt,array,eye,zeros_like,cos,sin,diag,exp,pi\n",
    "from numpy.linalg import solve\n",
    "from math import *\n",
    "import numpy as np\n",
    "import pandas as pd \n",
    "from tabulate import tabulate\n",
    "import sympy as sym\n",
    "from fractions import Fraction as fr"
   ]
  },
  {
   "cell_type": "markdown",
   "metadata": {},
   "source": [
    "# SplitDifference\n",
    "![Split](../python/image/Split1.png)"
   ]
  },
  {
   "cell_type": "code",
   "execution_count": 11,
   "metadata": {},
   "outputs": [],
   "source": [
    "\n",
    "def SplitDiff(l,r,vecx,vecy):\n",
    "    if l==r:\n",
    "        P[l][r] = fr(vecy[l])        \n",
    "        return fr(vecy[l])\n",
    "    val= fr(SplitDiff(l+1,r,vecx,vecy)-SplitDiff(l,r-1,vecx,vecy))/fr(vecx[r]-vecx[l])\n",
    "    P[l][r] = val\n",
    "    return val  "
   ]
  },
  {
   "cell_type": "code",
   "execution_count": 12,
   "metadata": {},
   "outputs": [
    {
     "name": "stdout",
     "output_type": "stream",
     "text": [
      "[Fraction(1, 1), Fraction(2, 1), Fraction(-3, 8), Fraction(7, 40)]\n",
      "[Fraction(-3, 1), Fraction(5, 4), Fraction(3, 20)]\n",
      "[Fraction(2, 1), Fraction(2, 1)]\n",
      "[Fraction(4, 1)]\n",
      "1\n",
      "2*t - 5\n",
      "2*t - 3*(t - 3)*(t - 1)/8 - 5\n",
      "2*t + 7*(t - 5)*(t - 3)*(t - 1)/40 - 3*(t - 3)*(t - 1)/8 - 5\n"
     ]
    }
   ],
   "source": [
    "vecx = [3,1,5,6]\n",
    "vecy = [1,-3,2,4]\n",
    "n = len(vecx)\n",
    "P = [[None]*n for i in range(n)]\n",
    "\n",
    "SplitDiff(0,n-1,vecx,vecy)\n",
    "\n",
    "for i in range(0,n):\n",
    "    print(P[i][i:n])\n",
    "\n",
    "t = sym.Symbol('t')\n",
    "Px = 0\n",
    "q = 1\n",
    "for i in range(0,n):\n",
    "    \n",
    "    if i== 0:\n",
    "        Px += vecy[i]\n",
    "    else :\n",
    "        Px += P[0][i]*q \n",
    "    q*= (t-vecx[i]) \n",
    "print(Px)\n",
    "    "
   ]
  }
 ],
 "metadata": {
  "kernelspec": {
   "display_name": "Python 3.8.10 64-bit",
   "language": "python",
   "name": "python3"
  },
  "language_info": {
   "codemirror_mode": {
    "name": "ipython",
    "version": 3
   },
   "file_extension": ".py",
   "mimetype": "text/x-python",
   "name": "python",
   "nbconvert_exporter": "python",
   "pygments_lexer": "ipython3",
   "version": "3.8.10"
  },
  "orig_nbformat": 4,
  "vscode": {
   "interpreter": {
    "hash": "916dbcbb3f70747c44a77c7bcd40155683ae19c65e1c03b4aa3499c5328201f1"
   }
  }
 },
 "nbformat": 4,
 "nbformat_minor": 2
}
