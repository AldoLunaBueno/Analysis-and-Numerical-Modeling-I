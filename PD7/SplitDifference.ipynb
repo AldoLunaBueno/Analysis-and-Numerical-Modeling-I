{
 "cells": [
  {
   "cell_type": "code",
   "execution_count": 18,
   "metadata": {},
   "outputs": [],
   "source": [
    "from numpy import dot,sqrt,array,eye,zeros_like,cos,sin,diag,exp,pi\n",
    "from numpy.linalg import solve\n",
    "from math import *\n",
    "import numpy as np\n",
    "import pandas as pd \n",
    "from tabulate import tabulate\n",
    "import sympy as sym\n",
    "from fractions import Fraction"
   ]
  },
  {
   "cell_type": "markdown",
   "metadata": {},
   "source": [
    "# SplitDifference\n",
    "![Split](../python/image/Split1.png)"
   ]
  },
  {
   "cell_type": "code",
   "execution_count": 19,
   "metadata": {},
   "outputs": [],
   "source": [
    "vecx = [3,1,5,6]\n",
    "vecy = [1,-3,2,4]\n",
    "n = len(vecx)\n",
    "P = [None]*n\n",
    "P[0] = vecy[0]\n",
    "def SplitDiff(l,r,vecx,vecy):\n",
    "    if l==r:\n",
    "       \n",
    "        return vecy[l]\n",
    "    val= (SplitDiff(l+1,r,vecx,vecy)-SplitDiff(l,r-1,vecx,vecy))/(vecx[r]-vecx[l])\n",
    "    if l==0 :\n",
    "        P[r] = val\n",
    "    return val  "
   ]
  },
  {
   "cell_type": "code",
   "execution_count": 20,
   "metadata": {},
   "outputs": [
    {
     "name": "stdout",
     "output_type": "stream",
     "text": [
      "[1, 2.0, -0.375, 0.17500000000000002]\n"
     ]
    }
   ],
   "source": [
    "SplitDiff(0,3,vecx,vecy)\n",
    "print(P)\n"
   ]
  }
 ],
 "metadata": {
  "kernelspec": {
   "display_name": "Python 3.8.10 64-bit",
   "language": "python",
   "name": "python3"
  },
  "language_info": {
   "codemirror_mode": {
    "name": "ipython",
    "version": 3
   },
   "file_extension": ".py",
   "mimetype": "text/x-python",
   "name": "python",
   "nbconvert_exporter": "python",
   "pygments_lexer": "ipython3",
   "version": "3.8.10"
  },
  "orig_nbformat": 4,
  "vscode": {
   "interpreter": {
    "hash": "916dbcbb3f70747c44a77c7bcd40155683ae19c65e1c03b4aa3499c5328201f1"
   }
  }
 },
 "nbformat": 4,
 "nbformat_minor": 2
}
