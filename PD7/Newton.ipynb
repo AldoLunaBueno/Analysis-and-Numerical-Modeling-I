{
 "cells": [
  {
   "cell_type": "markdown",
   "metadata": {},
   "source": [
    "# Newton\n",
    "![Newton](../python/image/Newton1.png)\n"
   ]
  },
  {
   "cell_type": "code",
   "execution_count": 36,
   "metadata": {},
   "outputs": [],
   "source": [
    "from numpy import dot,sqrt,array,eye,zeros_like,cos,sin,diag,exp,pi\n",
    "from numpy.linalg import solve\n",
    "from math import *\n",
    "import numpy as np\n",
    "import pandas as pd \n",
    "from tabulate import tabulate\n",
    "import sympy as sym"
   ]
  },
  {
   "cell_type": "code",
   "execution_count": 37,
   "metadata": {},
   "outputs": [],
   "source": [
    "def Newton(x,y,xcur):\n",
    "    P[0]= y[0] * t**0\n",
    "    q = 1\n",
    "\n",
    "    for i in range(1,n):\n",
    "        q *= (t-x[i-1]) \n",
    "        ai = (y[i]-(P[i-1].subs(t,x[i])))/q.subs(t,x[i])\n",
    "        Qi = ai * q\n",
    "        P[i] = P[i-1] + Qi\n",
    "        if i<=2:\n",
    "            print(\"q : \",q)\n",
    "            print(\"a :\", ai)\n",
    "            print(\"Q :\", Qi)\n",
    "        print(P[i].expand)\n",
    "    \n",
    "    #print(P[n-1]) -> target\n",
    "        \n",
    "    "
   ]
  },
  {
   "cell_type": "code",
   "execution_count": 38,
   "metadata": {},
   "outputs": [],
   "source": [
    "import math\n",
    "import numpy as np\n",
    "from matplotlib import pyplot as plt\n",
    "#print(Px.subs(t,0.5))\n",
    "\n",
    "def DrawNewton():\n",
    "    x = np.arange(-3,3,0.01)\n",
    "    y = np.zeros(len(x))\n",
    "    for i in range(0,len(x)):\n",
    "        y[i] = P[n-1].subs(t,x[i])\n",
    "\n",
    "    plt.plot(x,y)\n",
    "    plt.xlabel(\"Coordena X\")\n",
    "    plt.ylabel(\"Coordena Y\")\n",
    "    plt.show()\n",
    "    \n",
    "                "
   ]
  },
  {
   "cell_type": "code",
   "execution_count": 39,
   "metadata": {},
   "outputs": [
    {
     "name": "stdout",
     "output_type": "stream",
     "text": [
      "q :  t - 2\n",
      "a : -3\n",
      "Q : 6 - 3*t\n",
      "<bound method Expr.expand of 5 - 3*t>\n",
      "q :  (t - 2)*(t - 1)\n",
      "a : -7/2\n",
      "Q : -7*(t - 2)*(t - 1)/2\n",
      "<bound method Expr.expand of -3*t - 7*(t - 2)*(t - 1)/2 + 5>\n",
      "<bound method Expr.expand of -13*t*(t - 2)*(t - 1)/6 - 3*t - 7*(t - 2)*(t - 1)/2 + 5>\n"
     ]
    },
    {
     "data": {
      "image/png": "[encoded data removed]",
      "text/plain": [
       "<Figure size 432x288 with 1 Axes>"
      ]
     },
     "metadata": {
      "needs_background": "light"
     },
     "output_type": "display_data"
    }
   ],
   "source": [
    "\n",
    "x = [0.5,1,1.5,2,2.5]\n",
    "y = [1.7724,1,0.8862,1,1.3293]\n",
    "n = len(x)\n",
    "P = [None] * n\n",
    "t = sym.Symbol('t')\n",
    "\n",
    "Newton(x,y,2)\n",
    "DrawNewton()"
   ]
  }
 ],
 "metadata": {
  "kernelspec": {
   "display_name": "Python 3.8.10 64-bit",
   "language": "python",
   "name": "python3"
  },
  "language_info": {
   "codemirror_mode": {
    "name": "ipython",
    "version": 3
   },
   "file_extension": ".py",
   "mimetype": "text/x-python",
   "name": "python",
   "nbconvert_exporter": "python",
   "pygments_lexer": "ipython3",
   "version": "3.8.10"
  },
  "orig_nbformat": 4,
  "vscode": {
   "interpreter": {
    "hash": "916dbcbb3f70747c44a77c7bcd40155683ae19c65e1c03b4aa3499c5328201f1"
   }
  }
 },
 "nbformat": 4,
 "nbformat_minor": 2
}
