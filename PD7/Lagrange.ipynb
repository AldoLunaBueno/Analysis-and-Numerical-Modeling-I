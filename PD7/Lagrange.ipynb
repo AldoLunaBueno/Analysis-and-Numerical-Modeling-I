{
 "cells": [
  {
   "cell_type": "markdown",
   "metadata": {},
   "source": [
    "# Lagrange\n",
    "\n",
    "![Lagrange](../python/image/Lagrange1.png)\n"
   ]
  },
  {
   "cell_type": "code",
   "execution_count": 13,
   "metadata": {},
   "outputs": [
    {
     "name": "stdout",
     "output_type": "stream",
     "text": [
      "[t*(t - 2)/3, t*(t + 1)/6, -t**2/2 + t/2 + 1]\n",
      "Polinomio reducido :\n",
      "2*t**2/3 - 4*t/3 - 1\n",
      "Remplazando para el punto xcur :\n",
      "-1\n"
     ]
    }
   ],
   "source": [
    "from numpy import dot,sqrt,array,eye,zeros_like,cos,sin,diag,exp,pi\n",
    "from numpy.linalg import solve\n",
    "from math import *\n",
    "import numpy as np\n",
    "import pandas as pd \n",
    "from tabulate import tabulate\n",
    "import sympy as sym\n",
    "\n",
    "def lagrange(x,y,xcur):\n",
    "    n = len(x)\n",
    "    Li = []\n",
    "    t = sym.Symbol('t')\n",
    "    for i in range(0,n):\n",
    "        val = 1\n",
    "        for j in range(0,n):\n",
    "            if i==j:\n",
    "                continue\n",
    "            val *= (t-x[j])/(x[i]-x[j])\n",
    "        Li.append(val.simplify())    \n",
    "    \n",
    "    print(Li)\n",
    "    Pn = 0\n",
    "    for i in range(0,n):\n",
    "        Pn += y[i]*Li[i]\n",
    "    print('Polinomio reducido :')\n",
    "    print(Pn.simplify())\n",
    "    print('Remplazando para el punto xcur :')\n",
    "    print(Pn.subs(t,xcur))\n",
    "    \n",
    "    \n",
    "\n",
    "x = [-1,2,0]\n",
    "y = [1,-1,-1]\n",
    "xcur = 2\n",
    "lagrange(x,y,xcur)"
   ]
  }
 ],
 "metadata": {
  "kernelspec": {
   "display_name": "Python 3.8.10 64-bit",
   "language": "python",
   "name": "python3"
  },
  "language_info": {
   "codemirror_mode": {
    "name": "ipython",
    "version": 3
   },
   "file_extension": ".py",
   "mimetype": "text/x-python",
   "name": "python",
   "nbconvert_exporter": "python",
   "pygments_lexer": "ipython3",
   "version": "3.8.10"
  },
  "orig_nbformat": 4,
  "vscode": {
   "interpreter": {
    "hash": "916dbcbb3f70747c44a77c7bcd40155683ae19c65e1c03b4aa3499c5328201f1"
   }
  }
 },
 "nbformat": 4,
 "nbformat_minor": 2
}
