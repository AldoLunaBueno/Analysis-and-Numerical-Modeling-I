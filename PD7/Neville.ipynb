{
 "cells": [
  {
   "cell_type": "markdown",
   "metadata": {},
   "source": [
    "# Neville\n",
    "![neville](../python/image/Neville1.png)"
   ]
  },
  {
   "cell_type": "code",
   "execution_count": 93,
   "metadata": {},
   "outputs": [],
   "source": [
    "from numpy import dot,sqrt,array,eye,zeros_like,cos,sin,diag,exp,pi\n",
    "from numpy.linalg import solve\n",
    "from math import *\n",
    "import numpy as np\n",
    "import pandas as pd \n",
    "from tabulate import tabulate\n",
    "import sympy as sym\n",
    "from fractions import Fraction as fr"
   ]
  },
  {
   "cell_type": "code",
   "execution_count": 94,
   "metadata": {},
   "outputs": [],
   "source": [
    "t =sym.Symbol('t')\n",
    "\n",
    "def neville(l,r,vecx,vecy):\n",
    "    if l==r:\n",
    "        P[l][r] = vecy[l]  \n",
    "        return vecy[l]\n",
    "\n",
    "    val = ((t-vecx[l])*neville(l+1,r,vecx,vecy)-(t-vecx[r])*neville(l,r-1,vecx,vecy))/(vecx[r]-vecx[l])\n",
    "    P[l][r] = val.simplify()\n",
    "    return val\n",
    "\n"
   ]
  },
  {
   "cell_type": "code",
   "execution_count": 95,
   "metadata": {},
   "outputs": [
    {
     "name": "stdout",
     "output_type": "stream",
     "text": [
      "[15, 13 - 2*t, t**2 - 5*t + 9]\n",
      "[5, 4*t - 11]\n",
      "[9]\n"
     ]
    }
   ],
   "source": [
    "vecx = [-1,4,5]\n",
    "vecy = [15,5,9]\n",
    "n = len(vecx)\n",
    "P = [[None]*n for i in range(n)]\n",
    "neville(0,n-1,vecx,vecy)\n",
    "for i in range(0,n):\n",
    "    print(P[i][i:n])"
   ]
  }
 ],
 "metadata": {
  "kernelspec": {
   "display_name": "Python 3.8.10 64-bit",
   "language": "python",
   "name": "python3"
  },
  "language_info": {
   "codemirror_mode": {
    "name": "ipython",
    "version": 3
   },
   "file_extension": ".py",
   "mimetype": "text/x-python",
   "name": "python",
   "nbconvert_exporter": "python",
   "pygments_lexer": "ipython3",
   "version": "3.8.10"
  },
  "orig_nbformat": 4,
  "vscode": {
   "interpreter": {
    "hash": "916dbcbb3f70747c44a77c7bcd40155683ae19c65e1c03b4aa3499c5328201f1"
   }
  }
 },
 "nbformat": 4,
 "nbformat_minor": 2
}
