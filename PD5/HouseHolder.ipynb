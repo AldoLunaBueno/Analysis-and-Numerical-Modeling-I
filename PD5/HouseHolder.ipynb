{
 "cells": [
  {
   "cell_type": "code",
   "execution_count": 23,
   "metadata": {},
   "outputs": [],
   "source": [
    "from numpy import dot,sqrt,array,eye,zeros_like,cos,sin,diag,exp,pi\n",
    "from numpy.linalg import solve\n",
    "from math import *\n",
    "import numpy as np\n",
    "import pandas as pd \n",
    "from tabulate import tabulate\n",
    "import sympy as sym\n",
    "from fractions import Fraction as fr"
   ]
  },
  {
   "cell_type": "code",
   "execution_count": 24,
   "metadata": {},
   "outputs": [],
   "source": [
    "def v(a):\n",
    "    e1 = np.zeros(len(a))\n",
    "    e1[0] = 1\n",
    "    print(\"**************************************\")\n",
    "    print(\"La norma : \",np.linalg.norm(a))\n",
    "    print(\"El vector :\")\n",
    "    return a+np.sign(a[0])*np.linalg.norm(a)*e1"
   ]
  },
  {
   "cell_type": "code",
   "execution_count": 25,
   "metadata": {},
   "outputs": [
    {
     "name": "stdout",
     "output_type": "stream",
     "text": [
      "**************************************\n",
      "La norma :  1.7320508075688772\n",
      "El vector :\n",
      "[[2.73205081 1.         1.        ]\n",
      " [2.73205081 1.         1.        ]\n",
      " [2.73205081 1.         1.        ]]\n",
      "Num\n",
      " [[14.92820323  5.46410162  5.46410162]\n",
      " [ 5.46410162  2.          2.        ]\n",
      " [ 5.46410162  2.          2.        ]]\n",
      "Den\n",
      " 28.392304845413264\n",
      "H\n",
      ":  [[ 0.47421658 -0.19245009 -0.19245009]\n",
      " [-0.19245009  0.92955838 -0.07044162]\n",
      " [-0.19245009 -0.07044162  0.92955838]]\n",
      "A1\n",
      ":  [[ 0.0893164   1.05156685]\n",
      " [ 0.66666667 -0.98112522]\n",
      " [ 0.66666667 -1.98112522]]\n",
      "************************************\n"
     ]
    }
   ],
   "source": [
    "def calcH1(v):\n",
    "    n = len(v)\n",
    "    I=np.identity(n)\n",
    "    \n",
    "    num = 2*((v*v.T))\n",
    "    den = np.linalg.norm(v)**2\n",
    "    print(\"Num\\n\" ,num)\n",
    "    print(\"Den\\n\",den)\n",
    "    H = I -num/den\n",
    "    return H\n",
    "A = array([[1,1],[1,-1],[1,-2]])\n",
    "col = array([[1],[1],[1]])\n",
    "v1 = v(col)\n",
    "print(v1)\n",
    "# v1 = a1 + sgn(a[1][1])*//a1//*e1\n",
    "H = calcH1(v1)\n",
    "print(\"H\\n: \",H)\n",
    "A1 = H@A\n",
    "print(\"A1\\n: \",A1)\n",
    "\n",
    "print(\"************************************\")\n"
   ]
  },
  {
   "cell_type": "code",
   "execution_count": 26,
   "metadata": {},
   "outputs": [
    {
     "name": "stdout",
     "output_type": "stream",
     "text": [
      "**************************************\n",
      "La norma :  1.7320508075688772\n",
      "El vector :\n",
      "[[2.73205081 1.         1.        ]\n",
      " [2.73205081 1.         1.        ]\n",
      " [2.73205081 1.         1.        ]]\n",
      "Num\n",
      " [[14.92820323  5.46410162  5.46410162]\n",
      " [ 5.46410162  2.          2.        ]\n",
      " [ 5.46410162  2.          2.        ]]\n",
      "Den\n",
      " 28.392304845413264\n",
      "[[ 0.47421658 -0.19245009 -0.19245009]\n",
      " [-0.19245009  0.92955838 -0.07044162]\n",
      " [-0.19245009 -0.07044162  0.92955838]]\n"
     ]
    }
   ],
   "source": [
    "col = array([[1],[1],[1]])\n",
    "v1 = v(col)\n",
    "print(v1)\n",
    "# v1 = a1 + sgn(a[1][1])*//a1//*e1\n",
    "H = calcH1(v1)\n",
    "print(H)"
   ]
  },
  {
   "cell_type": "code",
   "execution_count": 27,
   "metadata": {},
   "outputs": [
    {
     "name": "stdout",
     "output_type": "stream",
     "text": [
      "[[-2.93997366]\n",
      " [ 0.45913113]\n",
      " [ 2.16298012]]\n"
     ]
    }
   ],
   "source": [
    "Q = array([[-0.801883725737,-0.2672612419124244,0,-0.534522483],\n",
    "       [-0.16695677422593,-0.2504351613389,0.876523064686166,0.3756527420],\n",
    "       [-0.56931791003233,0.340734865279366,-0.3040641590539,0.6836094324]])\n",
    "\n",
    "\n",
    "b = array([[1],[2],[0],[3]])\n",
    "\n",
    "print(Q@b)"
   ]
  }
 ],
 "metadata": {
  "kernelspec": {
   "display_name": "Python 3.8.10 64-bit",
   "language": "python",
   "name": "python3"
  },
  "language_info": {
   "codemirror_mode": {
    "name": "ipython",
    "version": 3
   },
   "file_extension": ".py",
   "mimetype": "text/x-python",
   "name": "python",
   "nbconvert_exporter": "python",
   "pygments_lexer": "ipython3",
   "version": "3.8.10"
  },
  "orig_nbformat": 4,
  "vscode": {
   "interpreter": {
    "hash": "916dbcbb3f70747c44a77c7bcd40155683ae19c65e1c03b4aa3499c5328201f1"
   }
  }
 },
 "nbformat": 4,
 "nbformat_minor": 2
}
